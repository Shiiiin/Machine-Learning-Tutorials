{
  "nbformat": 4,
  "nbformat_minor": 0,
  "metadata": {
    "colab": {
      "name": "MNIST_FCC3_Basic",
      "version": "0.3.2",
      "provenance": [],
      "collapsed_sections": [],
      "include_colab_link": true
    },
    "kernelspec": {
      "name": "python3",
      "display_name": "Python 3"
    }
  },
  "cells": [
    {
      "cell_type": "markdown",
      "metadata": {
        "id": "view-in-github",
        "colab_type": "text"
      },
      "source": [
        "<a href=\"https://colab.research.google.com/github/Shiiiin/Machine-Learning-Tutorials/blob/master/MNIST_FCC3_Basic.ipynb\" target=\"_parent\"><img src=\"https://colab.research.google.com/assets/colab-badge.svg\" alt=\"Open In Colab\"/></a>"
      ]
    },
    {
      "metadata": {
        "id": "Ck_SlseK_kBi",
        "colab_type": "text"
      },
      "cell_type": "markdown",
      "source": [
        "# 목적\n",
        "- 프로그램밍에 대해서 전혀 모르는 분들도 딥러닝을 '느낄' 수 있도록 하는 것이 목적입니다. \n",
        "- 프로그래밍 언어에 대한 설명은 가능한 생략합니다.\n",
        "- 수학적인 내용에 대해서 가능한 생략합니다.\n",
        "- 다양한 모델에 대해서 성능이 어떻게 바뀌는지 '체감'하는 것이 목적입니다. "
      ]
    },
    {
      "metadata": {
        "id": "7OdiCeMUQH1b",
        "colab_type": "text"
      },
      "cell_type": "markdown",
      "source": [
        "# 입력 데이터 읽어오기"
      ]
    },
    {
      "metadata": {
        "id": "IpUyDPy2PXQ1",
        "colab_type": "code",
        "outputId": "313252f2-3e9a-48b0-8ad4-f8b5e40899ce",
        "colab": {
          "base_uri": "https://localhost:8080/",
          "height": 34
        }
      },
      "cell_type": "code",
      "source": [
        "from keras.models import Sequential  \n",
        "from keras.layers import Dense, Activation\n",
        "from keras.layers import Conv2D, MaxPooling2D, BatchNormalization, Flatten, Dropout\n",
        "from keras.utils import np_utils   # Keras에서 필요한 library를 import 합니다.\n",
        "\n",
        "import numpy as np # python에서 numpy\n",
        "\n",
        "np.random.seed(777)  # 랜덤 시드. 실행할때마다 같은 결과가 나오게 하기 위해서 필요합니다.\n",
        "\n",
        "\n"
      ],
      "execution_count": 0,
      "outputs": [
        {
          "output_type": "stream",
          "text": [
            "Using TensorFlow backend.\n"
          ],
          "name": "stderr"
        }
      ]
    },
    {
      "metadata": {
        "id": "SfgulHSB9b_C",
        "colab_type": "code",
        "colab": {}
      },
      "cell_type": "code",
      "source": [
        "from keras.datasets import mnist\n",
        "\n",
        "nb_classes = 10  # 0,1...., 8, 9 \n",
        "\n",
        "(x_train, y_train), (x_test, y_test) = mnist.load_data()"
      ],
      "execution_count": 0,
      "outputs": []
    },
    {
      "metadata": {
        "id": "lCvTeMdE1M6G",
        "colab_type": "text"
      },
      "cell_type": "markdown",
      "source": [
        "**그림을 그려봅시다.**"
      ]
    },
    {
      "metadata": {
        "id": "qWb6IGdd0UgG",
        "colab_type": "code",
        "outputId": "300e62e7-80ff-4ce3-98e4-8437ef439d48",
        "colab": {
          "base_uri": "https://localhost:8080/",
          "height": 364
        }
      },
      "cell_type": "code",
      "source": [
        "\n",
        "\n",
        "import matplotlib.pyplot as plt\n",
        "\n",
        "id = 0\n",
        "\n",
        "plt.imshow(x_train[id])\n",
        "plt.show()\n",
        "\n",
        "print('y = ', y_train[id])"
      ],
      "execution_count": 0,
      "outputs": [
        {
          "output_type": "display_data",
          "data": {
            "image/png": "[encoded data removed]",
            "text/plain": [
              "<Figure size 576x396 with 1 Axes>"
            ]
          },
          "metadata": {
            "tags": []
          }
        },
        {
          "output_type": "stream",
          "text": [
            "y =  5\n"
          ],
          "name": "stdout"
        }
      ]
    },
    {
      "metadata": {
        "id": "Z1I7Aac41htS",
        "colab_type": "text"
      },
      "cell_type": "markdown",
      "source": [
        "실제 데이터는 어떻게 생겼을까요??"
      ]
    },
    {
      "metadata": {
        "id": "uXzcg-VzAll1",
        "colab_type": "code",
        "outputId": "12885b5f-4667-4dd7-fe31-d341915af21d",
        "colab": {
          "base_uri": "https://localhost:8080/",
          "height": 513
        }
      },
      "cell_type": "code",
      "source": [
        "for x in x_train[0]:\n",
        "  for i in x:\n",
        "    print('{:3} '.format(i), end='') \n",
        "  print()\n",
        "# http://snowdeer.github.io/machine-learning/2018/01/09/recognize-mnist-data/\n",
        "\n",
        "\n",
        "  \n",
        "  "
      ],
      "execution_count": 0,
      "outputs": [
        {
          "output_type": "stream",
          "text": [
            "  0   0   0   0   0   0   0   0   0   0   0   0   0   0   0   0   0   0   0   0   0   0   0   0   0   0   0   0 \n",
            "  0   0   0   0   0   0   0   0   0   0   0   0   0   0   0   0   0   0   0   0   0   0   0   0   0   0   0   0 \n",
            "  0   0   0   0   0   0   0   0   0   0   0   0   0   0   0   0   0   0   0   0   0   0   0   0   0   0   0   0 \n",
            "  0   0   0   0   0   0   0   0   0   0   0   0   0   0   0   0   0   0   0   0   0   0   0   0   0   0   0   0 \n",
            "  0   0   0   0   0   0   0   0   0   0   0   0   0   0   0   0   0   0   0   0   0   0   0   0   0   0   0   0 \n",
            "  0   0   0   0   0   0   0   0   0   0   0   0   3  18  18  18 126 136 175  26 166 255 247 127   0   0   0   0 \n",
            "  0   0   0   0   0   0   0   0  30  36  94 154 170 253 253 253 253 253 225 172 253 242 195  64   0   0   0   0 \n",
            "  0   0   0   0   0   0   0  49 238 253 253 253 253 253 253 253 253 251  93  82  82  56  39   0   0   0   0   0 \n",
            "  0   0   0   0   0   0   0  18 219 253 253 253 253 253 198 182 247 241   0   0   0   0   0   0   0   0   0   0 \n",
            "  0   0   0   0   0   0   0   0  80 156 107 253 253 205  11   0  43 154   0   0   0   0   0   0   0   0   0   0 \n",
            "  0   0   0   0   0   0   0   0   0  14   1 154 253  90   0   0   0   0   0   0   0   0   0   0   0   0   0   0 \n",
            "  0   0   0   0   0   0   0   0   0   0   0 139 253 190   2   0   0   0   0   0   0   0   0   0   0   0   0   0 \n",
            "  0   0   0   0   0   0   0   0   0   0   0  11 190 253  70   0   0   0   0   0   0   0   0   0   0   0   0   0 \n",
            "  0   0   0   0   0   0   0   0   0   0   0   0  35 241 225 160 108   1   0   0   0   0   0   0   0   0   0   0 \n",
            "  0   0   0   0   0   0   0   0   0   0   0   0   0  81 240 253 253 119  25   0   0   0   0   0   0   0   0   0 \n",
            "  0   0   0   0   0   0   0   0   0   0   0   0   0   0  45 186 253 253 150  27   0   0   0   0   0   0   0   0 \n",
            "  0   0   0   0   0   0   0   0   0   0   0   0   0   0   0  16  93 252 253 187   0   0   0   0   0   0   0   0 \n",
            "  0   0   0   0   0   0   0   0   0   0   0   0   0   0   0   0   0 249 253 249  64   0   0   0   0   0   0   0 \n",
            "  0   0   0   0   0   0   0   0   0   0   0   0   0   0  46 130 183 253 253 207   2   0   0   0   0   0   0   0 \n",
            "  0   0   0   0   0   0   0   0   0   0   0   0  39 148 229 253 253 253 250 182   0   0   0   0   0   0   0   0 \n",
            "  0   0   0   0   0   0   0   0   0   0  24 114 221 253 253 253 253 201  78   0   0   0   0   0   0   0   0   0 \n",
            "  0   0   0   0   0   0   0   0  23  66 213 253 253 253 253 198  81   2   0   0   0   0   0   0   0   0   0   0 \n",
            "  0   0   0   0   0   0  18 171 219 253 253 253 253 195  80   9   0   0   0   0   0   0   0   0   0   0   0   0 \n",
            "  0   0   0   0  55 172 226 253 253 253 253 244 133  11   0   0   0   0   0   0   0   0   0   0   0   0   0   0 \n",
            "  0   0   0   0 136 253 253 253 212 135 132  16   0   0   0   0   0   0   0   0   0   0   0   0   0   0   0   0 \n",
            "  0   0   0   0   0   0   0   0   0   0   0   0   0   0   0   0   0   0   0   0   0   0   0   0   0   0   0   0 \n",
            "  0   0   0   0   0   0   0   0   0   0   0   0   0   0   0   0   0   0   0   0   0   0   0   0   0   0   0   0 \n",
            "  0   0   0   0   0   0   0   0   0   0   0   0   0   0   0   0   0   0   0   0   0   0   0   0   0   0   0   0 \n"
          ],
          "name": "stdout"
        }
      ]
    },
    {
      "metadata": {
        "id": "y77R5VrzCgS_",
        "colab_type": "text"
      },
      "cell_type": "markdown",
      "source": [
        "\n",
        "#데이터 전처리\n",
        "\n",
        "다양한 형태의 데이터를 우리가 설계한 네트워크에 맞게 변형하는 것이 필요합니다.\n",
        "딥러닝은 숫자형태만 처리가 가능하므로 문자는 적절한 숫자로 변경시켜 줍니다. (encoding)\n",
        "또한, 설계한 네트워크의 형태에 맞게 자료의 크기를 맞춰주는 작업이 필요합니다. \n",
        "\n",
        "MNIST 예제에서는 \n",
        "\n",
        "- 이미지 데이터 (입력)은 1D vector로 변환시켜 줍니다.\n",
        "- 정답 lable (0,1,2,3...,9)는 각각의 숫자의 확률로 변환시켜 줍니다. \n",
        "\n",
        "  0 -> [1,0,0,0.....]\n",
        "  \n",
        "  1 -> [0,1,0,0.....]\n",
        "\n",
        "\n",
        "\n"
      ]
    },
    {
      "metadata": {
        "id": "KuYZCia59lxk",
        "colab_type": "code",
        "colab": {}
      },
      "cell_type": "code",
      "source": [
        "\n",
        "x_train = x_train.reshape(x_train.shape[0], x_train.shape[1] * x_train.shape[2])\n",
        "x_train = x_train.astype('float32') / 255\n",
        "# one_hot\n",
        "y_train = np_utils.to_categorical(y_train, nb_classes) "
      ],
      "execution_count": 0,
      "outputs": []
    },
    {
      "metadata": {
        "id": "4F41XSH79oC-",
        "colab_type": "code",
        "colab": {}
      },
      "cell_type": "code",
      "source": [
        "x_test = x_test.reshape(x_test.shape[0], x_test.shape[1] * x_test.shape[2])\n",
        "x_test = x_test.astype('float32') / 255\n",
        "# one_hot\n",
        "y_test = np_utils.to_categorical(y_test, nb_classes)"
      ],
      "execution_count": 0,
      "outputs": []
    },
    {
      "metadata": {
        "id": "88s3GZtBbRuA",
        "colab_type": "text"
      },
      "cell_type": "markdown",
      "source": [
        "# 모델정의"
      ]
    },
    {
      "metadata": {
        "id": "j_3vwEHD9p_-",
        "colab_type": "code",
        "outputId": "fb38259f-418e-47a2-f08b-61915192defb",
        "colab": {
          "base_uri": "https://localhost:8080/",
          "height": 88
        }
      },
      "cell_type": "code",
      "source": [
        "activation = 'sigmoid' # activation 함수: relu, sigmoid 등\n",
        "\n",
        "\n",
        "model = Sequential()\n",
        "\n",
        "model.add(Dense(10, input_dim=784))      # MNIST data image of shape 28 * 28 = 784\n",
        "model.add(Activation('softmax'))  # 출력값(확률)의 합을 1로 만들어 줍니다. \n"
      ],
      "execution_count": 0,
      "outputs": [
        {
          "output_type": "stream",
          "text": [
            "WARNING:tensorflow:From /usr/local/lib/python3.6/dist-packages/tensorflow/python/framework/op_def_library.py:263: colocate_with (from tensorflow.python.framework.ops) is deprecated and will be removed in a future version.\n",
            "Instructions for updating:\n",
            "Colocations handled automatically by placer.\n"
          ],
          "name": "stdout"
        }
      ]
    },
    {
      "metadata": {
        "id": "z5vYVGopllr3",
        "colab_type": "text"
      },
      "cell_type": "markdown",
      "source": [
        "model.add(Dense(500))\n",
        "\n",
        "\n",
        "model.add(Activation(activation))\n",
        "\n",
        "\n",
        "model.add(Dropout(0.25))\n",
        "\n"
      ]
    },
    {
      "metadata": {
        "id": "k8N_hRRfinZq",
        "colab_type": "text"
      },
      "cell_type": "markdown",
      "source": [
        ""
      ]
    },
    {
      "metadata": {
        "id": "evjtu-cCIRtL",
        "colab_type": "code",
        "outputId": "c94a5456-e420-4ce5-cd59-dd43b2982bbc",
        "colab": {
          "base_uri": "https://localhost:8080/",
          "height": 204
        }
      },
      "cell_type": "code",
      "source": [
        "model.summary()"
      ],
      "execution_count": 0,
      "outputs": [
        {
          "output_type": "stream",
          "text": [
            "_________________________________________________________________\n",
            "Layer (type)                 Output Shape              Param #   \n",
            "=================================================================\n",
            "dense_1 (Dense)              (None, 10)                7850      \n",
            "_________________________________________________________________\n",
            "activation_1 (Activation)    (None, 10)                0         \n",
            "=================================================================\n",
            "Total params: 7,850\n",
            "Trainable params: 7,850\n",
            "Non-trainable params: 0\n",
            "_________________________________________________________________\n"
          ],
          "name": "stdout"
        }
      ]
    },
    {
      "metadata": {
        "id": "F2KvVdk-9r5c",
        "colab_type": "code",
        "colab": {}
      },
      "cell_type": "code",
      "source": [
        "model.compile(loss='categorical_crossentropy',    # mean square error, mean absolute error 등 사용 가능\n",
        "              optimizer='sgd',                                       # 최적화 알고리즘, sgd, adam 등등\n",
        "              metrics=['accuracy'])                               # 모델 성능을 평가하기 위한 척도입니다. Loss는 최적화를 수행하기 위하여 continuous한 함수로 정의가 되어야 합니다. 반면 정혹도는 맞느냐 틀리느냐로 결정됩니다. "
      ],
      "execution_count": 0,
      "outputs": []
    },
    {
      "metadata": {
        "id": "SCGOy2bDL7uy",
        "colab_type": "text"
      },
      "cell_type": "markdown",
      "source": [
        "loss : mean square error, mean absolute error 등 사용 가능\n",
        " \n",
        "Optimizer: 최적화 알고리즘, sgd, adam 등등\n",
        " \n",
        "Metric : 모델 성능을 평가하기 위한 척도입니다. Loss는 최적화를 수행하기 위하여 continuous한 함수로 정의가 되어야 합니다. 반면 정혹도는 맞느냐 틀리느냐로 결정됩니다."
      ]
    },
    {
      "metadata": {
        "id": "56FK8Bfj9uuo",
        "colab_type": "code",
        "outputId": "0b0cf3aa-e370-4461-aded-3ffaec7373a6",
        "colab": {
          "base_uri": "https://localhost:8080/",
          "height": 649
        }
      },
      "cell_type": "code",
      "source": [
        "history = model.fit(x_train, y_train, epochs=15, batch_size=256)\n",
        "score = model.evaluate(x_test, y_test)\n",
        "print('\\nAccuracy:', score[1])\n"
      ],
      "execution_count": 0,
      "outputs": [
        {
          "output_type": "stream",
          "text": [
            "WARNING:tensorflow:From /usr/local/lib/python3.6/dist-packages/tensorflow/python/ops/math_ops.py:3066: to_int32 (from tensorflow.python.ops.math_ops) is deprecated and will be removed in a future version.\n",
            "Instructions for updating:\n",
            "Use tf.cast instead.\n",
            "Epoch 1/15\n",
            "60000/60000 [==============================] - 1s 13us/step - loss: 1.6177 - acc: 0.5905\n",
            "Epoch 2/15\n",
            "60000/60000 [==============================] - 1s 11us/step - loss: 0.9678 - acc: 0.7996\n",
            "Epoch 3/15\n",
            "60000/60000 [==============================] - 1s 11us/step - loss: 0.7664 - acc: 0.8313\n",
            "Epoch 4/15\n",
            "60000/60000 [==============================] - 1s 11us/step - loss: 0.6680 - acc: 0.8455\n",
            "Epoch 5/15\n",
            "60000/60000 [==============================] - 1s 11us/step - loss: 0.6083 - acc: 0.8544\n",
            "Epoch 6/15\n",
            "60000/60000 [==============================] - 1s 11us/step - loss: 0.5675 - acc: 0.8604\n",
            "Epoch 7/15\n",
            "60000/60000 [==============================] - 1s 11us/step - loss: 0.5376 - acc: 0.8654\n",
            "Epoch 8/15\n",
            "60000/60000 [==============================] - 1s 12us/step - loss: 0.5145 - acc: 0.8695\n",
            "Epoch 9/15\n",
            "60000/60000 [==============================] - 1s 13us/step - loss: 0.4960 - acc: 0.8729\n",
            "Epoch 10/15\n",
            "60000/60000 [==============================] - 1s 13us/step - loss: 0.4808 - acc: 0.8764\n",
            "Epoch 11/15\n",
            "60000/60000 [==============================] - 1s 14us/step - loss: 0.4680 - acc: 0.8786\n",
            "Epoch 12/15\n",
            "60000/60000 [==============================] - 1s 14us/step - loss: 0.4570 - acc: 0.8808\n",
            "Epoch 13/15\n",
            "60000/60000 [==============================] - 1s 14us/step - loss: 0.4474 - acc: 0.8828\n",
            "Epoch 14/15\n",
            "60000/60000 [==============================] - 1s 14us/step - loss: 0.4390 - acc: 0.8840\n",
            "Epoch 15/15\n",
            "60000/60000 [==============================] - 1s 14us/step - loss: 0.4315 - acc: 0.8853\n",
            "10000/10000 [==============================] - 0s 30us/step\n",
            "\n",
            "Accuracy: 0.8938\n"
          ],
          "name": "stdout"
        }
      ]
    },
    {
      "metadata": {
        "id": "PvLKZxSfDhmB",
        "colab_type": "text"
      },
      "cell_type": "markdown",
      "source": [
        "# 성능을 향상시키는 방법은?\n",
        "\n",
        "- 모델을 복잡하게 만들자.\n",
        "\n",
        "  - Layer를 쌓아 봅시다. >> 어떤 문제가? 해결책은?\n",
        "  \n",
        "  - 뉴런의 개수 (폭)을 늘려봅시다. >> 어떤 문제가? 해결책은?\n",
        "  \n",
        "- 에포크를 늘려봅시다.\n",
        "- Optimizer를 sgd에서 adam으로 바꾸어 봅시다.\n"
      ]
    },
    {
      "metadata": {
        "id": "8ucLH7vDEbbz",
        "colab_type": "text"
      },
      "cell_type": "markdown",
      "source": [
        "# 참고자료\n",
        "\n",
        "모두를위한 딥러닝 강의 및 실습 : https://hunkim.github.io/ml/\n",
        "\n",
        "하용호, 너의 뇌에 딥러닝을 인스톨.. : https://www.slideshare.net/yongho/ss-79607172\n",
        "\n",
        "구글드라이브 연동하기 : https://zzsza.github.io/data/2018/08/30/google-colab/"
      ]
    },
    {
      "metadata": {
        "id": "SiOFIfl5Mdt2",
        "colab_type": "code",
        "colab": {}
      },
      "cell_type": "code",
      "source": [
        ""
      ],
      "execution_count": 0,
      "outputs": []
    }
  ]
}